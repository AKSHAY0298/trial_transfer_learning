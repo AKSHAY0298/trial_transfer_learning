{
 "cells": [
  {
   "cell_type": "code",
   "execution_count": 2,
   "metadata": {
    "is_executing": true
   },
   "outputs": [
    {
     "data": {
      "text/plain": [
       "<contextlib.ExitStack at 0x125687110>"
      ]
     },
     "execution_count": 2,
     "metadata": {},
     "output_type": "execute_result"
    }
   ],
   "source": [
    "import torch\n",
    "import torch.nn as nn\n",
    "import torch.optim as optim\n",
    "from torch.optim import lr_scheduler\n",
    "import torch.backends.cudnn as cudnn\n",
    "import torchvision\n",
    "from torchvision import datasets, models, transforms\n",
    "import matplotlib.pyplot as plt\n",
    "import os\n",
    "from PIL import Image\n",
    "from torchvision.transforms.functional import to_pil_image\n",
    "import matplotlib.pyplot as plt\n",
    "import torch.hub\n",
    "from tqdm import tqdm\n",
    "\n",
    "cudnn.benchmark = True\n",
    "plt.ion()"
   ]
  },
  {
   "cell_type": "code",
   "execution_count": 3,
   "metadata": {},
   "outputs": [
    {
     "name": "stdout",
     "output_type": "stream",
     "text": [
      "train_Feature batch shape: torch.Size([4, 3, 299, 299])\n",
      "train_Labels batch shape: torch.Size([4])\n",
      "val_Feature batch shape: torch.Size([4, 3, 299, 299])\n",
      "val_Labels batch shape: torch.Size([4])\n",
      "{'train': 244, 'val': 153}\n",
      "['ants', 'bees']\n"
     ]
    }
   ],
   "source": [
    "# Data augmentation and normalization for training\n",
    "# Just normalization for validation\n",
    "data_transforms = {\n",
    "    'train': transforms.Compose([\n",
    "        transforms.RandomResizedCrop(299),\n",
    "        transforms.RandomHorizontalFlip(),\n",
    "        transforms.ToTensor(),\n",
    "        transforms.Normalize([0.485, 0.456, 0.406], [0.229, 0.224, 0.225])\n",
    "    ]),\n",
    "    'val': transforms.Compose([\n",
    "        transforms.Resize(299),\n",
    "        transforms.CenterCrop(299),\n",
    "        transforms.ToTensor(),\n",
    "        transforms.Normalize([0.485, 0.456, 0.406], [0.229, 0.224, 0.225])\n",
    "    ]),\n",
    "}\n",
    "\n",
    "#Loading the Data\n",
    "\n",
    "data_dir = \"hymenoptera_data\"\n",
    "image_datasets = {x: datasets.ImageFolder(os.path.join(data_dir, x),\n",
    "                                          data_transforms[x])\n",
    "                  for x in ['train', 'val']}\n",
    "dataloaders = {x: torch.utils.data.DataLoader(image_datasets[x], batch_size=4,\n",
    "                                             shuffle=True, num_workers=4)\n",
    "              for x in ['train', 'val']}\n",
    "\n",
    "for x in ['train', 'val']:\n",
    "    x_dataloaders = dataloaders[x]\n",
    "    x_features, x_labels = next(iter(x_dataloaders))\n",
    "    print(f\"{x}_Feature batch shape: {x_features.size()}\")\n",
    "    print(f\"{x}_Labels batch shape: {x_labels.size()}\")\n",
    "    img = to_pil_image(x_features[0].squeeze())\n",
    "    label = x_labels[0]\n",
    "    #plt.imshow(img)\n",
    "    #plt.show()\n",
    "    #print(f\"Label: {label}\")\n",
    "\n",
    "dataset_sizes = {x: len(image_datasets[x]) for x in ['train', 'val']}\n",
    "class_names = image_datasets['train'].classes\n",
    "\n",
    "device = torch.device(\"cuda:0\" if torch.cuda.is_available() else \"cpu\")\n",
    "print(dataset_sizes)\n",
    "print(class_names)"
   ]
  },
  {
   "cell_type": "code",
   "execution_count": 5,
   "metadata": {},
   "outputs": [
    {
     "name": "stderr",
     "output_type": "stream",
     "text": [
      "Using cache found in /Users/pratiksakariya/.cache/torch/hub/moskomule_senet.pytorch_master\n"
     ]
    },
    {
     "name": "stdout",
     "output_type": "stream",
     "text": [
      "Epoch 1/10, Training Loss: 1.3160272734087022\n"
     ]
    }
   ],
   "source": [
    "#Creating the model\n",
    "model = torch.hub.load(\n",
    "    'moskomule/senet.pytorch',\n",
    "    'se_resnet50',\n",
    "    pretrained=True,)\n",
    "\n",
    "model = model.to(device)\n",
    "\n",
    "#Loss function and optimizer\n",
    "criterion = nn.CrossEntropyLoss()\n",
    "optimizer = optim.Adam(model.parameters(), lr=0.001)\n",
    "scheduler = torch.optim.lr_scheduler.StepLR(optimizer, step_size=30, gamma=0.1)\n",
    "\n",
    "#Training the model\n",
    "num_epochs = 10\n",
    "train_loader = dataloaders['train']\n",
    "training_losses = []\n",
    "epochs = range(1, num_epochs + 1)\n",
    "\n",
    "for epoch in tqdm(range(num_epochs)):\n",
    "    model.train()\n",
    "    running_loss = 0.0\n",
    "    for inputs, labels in train_loader:\n",
    "        inputs, labels = inputs.to(device), labels.to(device)\n",
    "\n",
    "        optimizer.zero_grad()\n",
    "\n",
    "        outputs= model(inputs)\n",
    "        loss = criterion(outputs, labels)\n",
    "        loss.backward()\n",
    "        optimizer.step()\n",
    "\n",
    "        running_loss += loss.item()\n",
    "\n",
    "    scheduler.step()\n",
    "\n",
    "    \n",
    "    epoch_loss = running_loss / len(train_loader)  # Calculate the average loss for the epoch\n",
    "    training_losses.append(epoch_loss)  # Append the average loss to the list\n",
    "\n",
    "    print(f\"Epoch {epoch+1}/{num_epochs}, Training Loss: {epoch_loss}\")\n"
   ]
  },
  {
   "cell_type": "code",
   "execution_count": 42,
   "metadata": {},
   "outputs": [
    {
     "name": "stdout",
     "output_type": "stream",
     "text": [
      "Epoch 0/10, Validation Loss: 0.7799063317286663\n",
      "Epoch 1/10, Validation Loss: 0.7799041958955618\n",
      "Epoch 2/10, Validation Loss: 0.7719402339978095\n",
      "Epoch 3/10, Validation Loss: 0.7869528719247916\n",
      "Epoch 4/10, Validation Loss: 0.779906805509176\n",
      "Epoch 5/10, Validation Loss: 0.7831847469011942\n",
      "Epoch 6/10, Validation Loss: 0.7869519751805526\n",
      "Epoch 7/10, Validation Loss: 0.7799052519676013\n",
      "Epoch 8/10, Validation Loss: 0.7788759599893521\n",
      "Epoch 9/10, Validation Loss: 0.7799062797656426\n"
     ]
    }
   ],
   "source": [
    "#Validation Phase\n",
    "model.eval()\n",
    "val_loader = dataloaders['val']\n",
    "\n",
    "with torch.no_grad():\n",
    "    validation_losses = []\n",
    "    epochs = range(1, num_epochs + 1)\n",
    "    for epoch in range(num_epochs):\n",
    "        validation_loss = 0.0\n",
    "        for inputs, labels in val_loader:  # Assuming val_loader is your validation data loader\n",
    "            inputs, labels = inputs.to(device), labels.to(device)\n",
    "            outputs = model(inputs)\n",
    "            loss = criterion(outputs, labels)\n",
    "            validation_loss += loss.item()\n",
    "        \n",
    "        val_epoch_loss = validation_loss / len(val_loader)\n",
    "        validation_losses.append(val_epoch_loss)\n",
    "        print(f\"Epoch {epoch}/{num_epochs}, Validation Loss: {val_epoch_loss}\")\n"
   ]
  },
  {
   "cell_type": "code",
   "execution_count": 43,
   "metadata": {},
   "outputs": [
    {
     "data": {
      "image/png": "[encoded data removed]",
      "text/plain": [
       "<Figure size 640x480 with 1 Axes>"
      ]
     },
     "metadata": {},
     "output_type": "display_data"
    }
   ],
   "source": [
    "#plot the losses\n",
    "plt.plot(epochs, training_losses, 'r-', label='Training Loss')  # Red line for training loss\n",
    "plt.plot(epochs, validation_losses, 'b-', label='Validation Loss')  # Blue line for validation loss\n",
    "\n",
    "# Adding titles and labels\n",
    "plt.title('Loss over Epochs')\n",
    "plt.xlabel('Epochs')\n",
    "plt.ylabel('Loss')\n",
    "plt.legend()\n",
    "\n",
    "# Show the plot\n",
    "plt.show()\n"
   ]
  }
 ],
 "metadata": {
  "kernelspec": {
   "display_name": "base",
   "language": "python",
   "name": "python3"
  },
  "language_info": {
   "codemirror_mode": {
    "name": "ipython",
    "version": 3
   },
   "file_extension": ".py",
   "mimetype": "text/x-python",
   "name": "python",
   "nbconvert_exporter": "python",
   "pygments_lexer": "ipython3",
   "version": "3.11.5"
  }
 },
 "nbformat": 4,
 "nbformat_minor": 2
}
